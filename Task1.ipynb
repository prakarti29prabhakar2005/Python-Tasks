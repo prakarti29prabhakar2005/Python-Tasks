{
 "cells": [
  {
   "cell_type": "code",
   "execution_count": 1,
   "id": "6ba25ac5-fa22-479d-bd81-f84aaad502e8",
   "metadata": {},
   "outputs": [],
   "source": [
    "# Q1. Create a function which will take a list as an argument and return the product of all the numbers\n",
    "# after creating a flat list.\n",
    "# Use the below-given list as an argument for your function.\n",
    "# list1 = [1,2,3,4, [44,55,66, True], False, (34,56,78,89,34), {1,2,3,3,2,1}, {1:34, \"key2\": [55, 67, 78, 89], 4: (45,\n",
    "# 22, 61, 34)}, [56, 'data science'], 'Machine Learning']\n",
    "# Note: you must extract numeric keys and values of the dictionary also."
   ]
  },
  {
   "cell_type": "code",
   "execution_count": 9,
   "id": "8174d4a3-7c2c-4dac-ae03-64fad4d0a375",
   "metadata": {},
   "outputs": [],
   "source": [
    "# l = [1,2,3,4, [44,55,66, True], False, (34,56,78,89,34), {1,2,3,3,2,1},\n",
    "#      {1:34, \"key2\": [55, 67, 78, 89], 4: (45, 22, 61, 34)}, [56, 'data science'], 'Machine Learning']\n",
    "\n",
    "def product(l):\n",
    "    \"\"\"This function will take list as an argument and will return the product of all the numbers\"\"\"\n",
    "    l1 = []\n",
    "    for i in l:\n",
    "        if type(i) == int or type(i) == float:\n",
    "            l1.append(i)\n",
    "        elif type(i) == list or type(i) == tuple:\n",
    "            for j in i:\n",
    "                if type(j) == int or type(j) == float:\n",
    "                     l1.append(j)\n",
    "        elif type(i) == dict:\n",
    "            for k, v in i.items():\n",
    "                if type(k) == int or type(k) == float:\n",
    "                    l1.append(k)\n",
    "                if type(v) == int or type(v) == float:\n",
    "                    l1.append(v)\n",
    "                elif type(v) == tuple or type(v) == list:\n",
    "                    for u in v:\n",
    "                        if type(u) == int or type(u) == float:\n",
    "                            l1.append(u)\n",
    "    p = 1\n",
    "    for m in l1:\n",
    "        p *= m\n",
    "    return p"
   ]
  },
  {
   "cell_type": "code",
   "execution_count": 10,
   "id": "f05a511f-d460-4d13-bbbd-1fb59edab37f",
   "metadata": {},
   "outputs": [],
   "source": [
    "l = [1,2,3,4, [44,55,66, True], False, (34,56,78,89,34), {1,2,3,3,2,1}, {1:34, \"key2\": [55, 67, 78, 89], 4: (45, 22, 61, 34)}, [56, 'data science'], 'Machine Learning']"
   ]
  },
  {
   "cell_type": "code",
   "execution_count": 12,
   "id": "77bea405-f09d-4a1b-a74d-abc641d8275b",
   "metadata": {},
   "outputs": [
    {
     "data": {
      "text/plain": [
       "689118639831180913138973540352000"
      ]
     },
     "execution_count": 12,
     "metadata": {},
     "output_type": "execute_result"
    }
   ],
   "source": [
    "product(l)"
   ]
  },
  {
   "cell_type": "code",
   "execution_count": 1,
   "id": "7d4bb32a-59aa-4038-a7b6-90e194d2a8c0",
   "metadata": {},
   "outputs": [
    {
     "name": "stdout",
     "output_type": "stream",
     "text": [
      "0\n"
     ]
    }
   ],
   "source": [
    "# Q2. Write a python program for encrypting a message sent to you by your friend. The logic of encryption\n",
    "# should be such that, for a the output should be z. For b, the output should be y. For c, the output should\n",
    "# be x respectively. Also, the whitespace should be replaced with a dollar sign. Keep the punctuation\n",
    "# marks unchanged.\n",
    "# Input Sentence: I want to become a Data Scientist.\n",
    "# Encrypt the above input sentence using the program you just created.\n",
    "# Note: Convert the given input sentence into lowercase before encrypting. The final output should be\n",
    "# lowercase."
   ]
  },
  {
   "cell_type": "code",
   "execution_count": 15,
   "id": "a5273836-03f6-46ac-aa42-d8e8c8efa536",
   "metadata": {},
   "outputs": [],
   "source": [
    "def encrypt(s):\n",
    "    s = s.lower()\n",
    "    mapping = {chr(i): chr(122 - (i - 97)) for i in range(97, 123)}\n",
    "    result = ''.join(mapping.get(char, char) if char != ' ' else '$' for char in s)\n",
    "    return result        "
   ]
  },
  {
   "cell_type": "code",
   "execution_count": null,
   "id": "7ab0ae25-5192-45df-9388-7c6e6ca0e398",
   "metadata": {},
   "outputs": [],
   "source": [
    "encrypt(\"I want to become a Data Scientist.\")"
   ]
  }
 ],
 "metadata": {
  "kernelspec": {
   "display_name": "Python 3 (ipykernel)",
   "language": "python",
   "name": "python3"
  },
  "language_info": {
   "codemirror_mode": {
    "name": "ipython",
    "version": 3
   },
   "file_extension": ".py",
   "mimetype": "text/x-python",
   "name": "python",
   "nbconvert_exporter": "python",
   "pygments_lexer": "ipython3",
   "version": "3.10.8"
  }
 },
 "nbformat": 4,
 "nbformat_minor": 5
}
