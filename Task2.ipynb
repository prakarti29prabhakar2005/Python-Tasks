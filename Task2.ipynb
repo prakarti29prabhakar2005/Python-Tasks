{
 "cells": [
  {
   "cell_type": "code",
   "execution_count": 1,
   "id": "ef54c496-7cfc-4478-bd98-b3e830f7bf64",
   "metadata": {},
   "outputs": [],
   "source": [
    "# Q1. You are writing code for a company. The requirement of the company is that you create a python\n",
    "# function that will check whether the password entered by the user is correct or not. The function should\n",
    "# take the password as input and return the string “Valid Password” if the entered password follows the\n",
    "# below-given password guidelines else it should return “Invalid Password”.\n",
    "# Note: 1. The Password should contain at least two uppercase letters and at least two lowercase letters.\n",
    "# 2. The Password should contain at least a number and three special characters.\n",
    "# 3. The length of the password should be 10 characters long."
   ]
  },
  {
   "cell_type": "code",
   "execution_count": 3,
   "id": "a07d13ae-556f-4cd5-9942-000597bbeb04",
   "metadata": {},
   "outputs": [],
   "source": [
    "def password_verifier():\n",
    "    password = input(\"Enter password : \")\n",
    "    upperCaseCount, lowerCaseCount, specialCharacterCount = 0, 0, 0\n",
    "    special_characters = \"!@#$%^&*()-+?_=,<>/\"\n",
    "    if len(password) < 10:\n",
    "        return \"Invalid Password\"\n",
    "    else:\n",
    "        for i in password:\n",
    "            if i.isupper():\n",
    "                upperCaseCount += 1\n",
    "            elif i.islower():\n",
    "                lowerCaseCount += 1\n",
    "            elif i in special_characters:\n",
    "                specialCharacterCount += 1\n",
    "    if upperCaseCount < 2 or lowerCaseCount < 2 or specialCharacterCount < 1:\n",
    "         return \"Invalid Password\"\n",
    "    else:\n",
    "        return \"Valid Password\""
   ]
  },
  {
   "cell_type": "code",
   "execution_count": 4,
   "id": "9ce2f993-f68b-4c96-95aa-886020d700c9",
   "metadata": {},
   "outputs": [
    {
     "name": "stdin",
     "output_type": "stream",
     "text": [
      "Enter password :  p@ssWOrd34\n"
     ]
    },
    {
     "data": {
      "text/plain": [
       "'Valid Password'"
      ]
     },
     "execution_count": 4,
     "metadata": {},
     "output_type": "execute_result"
    }
   ],
   "source": [
    "password_verifier()"
   ]
  },
  {
   "cell_type": "code",
   "execution_count": 5,
   "id": "52c8d0c2-7ffd-4e96-9236-436432524242",
   "metadata": {},
   "outputs": [],
   "source": [
    "# Q2. Solve the below-given questions using at least one of the following:\n",
    "# 1. Lambda functioJ\n",
    "# 2. Filter functioJ\n",
    "# 3. Map functioJ\n",
    "# 4. List ComprehensioI\n",
    "# B Check if the string starts with a particular letterY\n",
    "# B Check if the string is numericY\n",
    "# B Sort a list of tuples having fruit names and their quantity. [(\"mango\",99),(\"orange\",80), (\"grapes\", 1000)-\n",
    "# B Find the squares of numbers from 1 to 10Y\n",
    "# B Find the cube root of numbers from 1 to 10Y\n",
    "# B Check if a given number is evenY\n",
    "# B Filter odd numbers from the given list.\n",
    "# [1,2,3,4,5,6,7,8,9,10-\n",
    "# B Sort a list of integers into positive and negative integers lists.\n",
    "# [1,2,3,4,5,6,-1,-2,-3,-4,-5,0]"
   ]
  },
  {
   "cell_type": "code",
   "execution_count": 6,
   "id": "0ba2676a-48da-4847-8602-f8af7217e06e",
   "metadata": {},
   "outputs": [],
   "source": [
    "#let's say the particualr character is 'a'\n",
    "a =  lambda x : x.startswith('a')"
   ]
  },
  {
   "cell_type": "code",
   "execution_count": 7,
   "id": "f79958eb-fd8f-4231-b8b3-6d762a6e3ab0",
   "metadata": {},
   "outputs": [
    {
     "name": "stdout",
     "output_type": "stream",
     "text": [
      "True\n",
      "False\n"
     ]
    }
   ],
   "source": [
    "print(a('apple'))\n",
    "print(a('banana'))"
   ]
  },
  {
   "cell_type": "code",
   "execution_count": 10,
   "id": "b4193719-129a-46d6-8566-6dcd8c006617",
   "metadata": {},
   "outputs": [
    {
     "name": "stdout",
     "output_type": "stream",
     "text": [
      "True\n",
      "False\n"
     ]
    }
   ],
   "source": [
    "n = lambda x : x.isnumeric()\n",
    "print(n(\"1234\"))\n",
    "print(n('appl23'))"
   ]
  },
  {
   "cell_type": "code",
   "execution_count": 29,
   "id": "196da76f-e0a9-44b5-9c9f-d0ac5fdc0e89",
   "metadata": {},
   "outputs": [
    {
     "name": "stdout",
     "output_type": "stream",
     "text": [
      "[('orange', 80), ('mango', 99), ('grapes', 1000)]\n",
      "[('grapes', 1000), ('mango', 99), ('orange', 80)]\n"
     ]
    }
   ],
   "source": [
    "sample = [(\"mango\",99),(\"orange\",80), (\"grapes\", 1000)]\n",
    "s1 = sorted(sample, key =lambda x : x[1])\n",
    "print(s1)\n",
    "s2 = sorted(sample, key = lambda x : x[0])\n",
    "print(s2)"
   ]
  },
  {
   "cell_type": "code",
   "execution_count": 30,
   "id": "783b1c7f-25ed-42da-90fb-2d2fdf3f5392",
   "metadata": {},
   "outputs": [
    {
     "data": {
      "text/plain": [
       "[1, 4, 9, 16, 25, 36, 49, 64, 81, 100]"
      ]
     },
     "execution_count": 30,
     "metadata": {},
     "output_type": "execute_result"
    }
   ],
   "source": [
    "[i**2 for i in range(1,11)]"
   ]
  },
  {
   "cell_type": "code",
   "execution_count": 31,
   "id": "b0de4a95-1345-49c6-94ee-494097ec0f77",
   "metadata": {},
   "outputs": [
    {
     "data": {
      "text/plain": [
       "[1.0,\n",
       " 1.2599210498948732,\n",
       " 1.4422495703074083,\n",
       " 1.5874010519681994,\n",
       " 1.7099759466766968,\n",
       " 1.8171205928321397,\n",
       " 1.912931182772389,\n",
       " 2.0,\n",
       " 2.080083823051904,\n",
       " 2.154434690031884]"
      ]
     },
     "execution_count": 31,
     "metadata": {},
     "output_type": "execute_result"
    }
   ],
   "source": [
    "[i**(1/3) for i in range(1,11)]"
   ]
  },
  {
   "cell_type": "code",
   "execution_count": 33,
   "id": "1a9b09a9-16c4-47f9-a830-62ba675aa5d4",
   "metadata": {},
   "outputs": [
    {
     "name": "stdin",
     "output_type": "stream",
     "text": [
      "x :  123\n"
     ]
    },
    {
     "data": {
      "text/plain": [
       "['Not even']"
      ]
     },
     "execution_count": 33,
     "metadata": {},
     "output_type": "execute_result"
    }
   ],
   "source": [
    "x = int(input(\"x : \"))\n",
    "[x if x%2 == 0 else \"Not even\"]"
   ]
  },
  {
   "cell_type": "code",
   "execution_count": 34,
   "id": "ba31cab9-03b9-43b8-b309-67c13fda83ec",
   "metadata": {},
   "outputs": [
    {
     "name": "stdin",
     "output_type": "stream",
     "text": [
      "y :  24\n"
     ]
    },
    {
     "data": {
      "text/plain": [
       "[24]"
      ]
     },
     "execution_count": 34,
     "metadata": {},
     "output_type": "execute_result"
    }
   ],
   "source": [
    "y = int(input(\"y : \"))\n",
    "[y if y%2 == 0 else \"Not even\"]"
   ]
  },
  {
   "cell_type": "code",
   "execution_count": 37,
   "id": "44a7ea1e-3dfe-46ac-ba1c-d11d56c59f48",
   "metadata": {},
   "outputs": [
    {
     "data": {
      "text/plain": [
       "(2, 4, 6, 8, 10)"
      ]
     },
     "execution_count": 37,
     "metadata": {},
     "output_type": "execute_result"
    }
   ],
   "source": [
    "l = [1,2,3,4,5,6,7,8,9,10]\n",
    "tuple(filter(lambda x : x%2 == 0, l))"
   ]
  },
  {
   "cell_type": "code",
   "execution_count": null,
   "id": "299957eb-b194-4870-ac41-a35df051527e",
   "metadata": {},
   "outputs": [],
   "source": [
    "l = [1,2,3,4,5,6,-1,-2,-3,-4,-5,0]\n"
   ]
  },
  {
   "cell_type": "code",
   "execution_count": null,
   "id": "0a840755-11b3-409c-8253-f6ca668e0f14",
   "metadata": {},
   "outputs": [],
   "source": []
  },
  {
   "cell_type": "code",
   "execution_count": null,
   "id": "8697a3ef-cf67-4826-8d52-037ad74427f4",
   "metadata": {},
   "outputs": [],
   "source": []
  }
 ],
 "metadata": {
  "kernelspec": {
   "display_name": "Python 3 (ipykernel)",
   "language": "python",
   "name": "python3"
  },
  "language_info": {
   "codemirror_mode": {
    "name": "ipython",
    "version": 3
   },
   "file_extension": ".py",
   "mimetype": "text/x-python",
   "name": "python",
   "nbconvert_exporter": "python",
   "pygments_lexer": "ipython3",
   "version": "3.10.8"
  }
 },
 "nbformat": 4,
 "nbformat_minor": 5
}
